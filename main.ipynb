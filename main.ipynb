{
 "cells": [
  {
   "cell_type": "markdown",
   "metadata": {},
   "source": [
    "# 模組與套件\n",
    "\n",
    "## 模組\n",
    "> 模組簡單來說就是一個Python檔案，而在模組中(一個Python檔案)會出現的不外乎就是運算、函式與類別\n",
    "\n",
    "\n",
    "* 名稱空間(namespace)\n",
    "    - 當我們匯入模組時，Python會用模組的名稱建立一個名稱空間，該空間收集了模組中函式、類別的名字，我們透過**.**做階層式的存取\n",
    "    \n",
    "    - 模組的作用之一是作為名稱空間，你所建立的變數、函式名稱、類別名稱，最大有效範圍就是模組範圍\n",
    "    \n",
    "    - dir()是一個內建函式，他能夠列出指定名稱空間中所有的名稱，當我們不提供參數的時候，dir會列出shell中最上層名稱空間中的名字\n",
    "    \n",
    "\n",
    "* 匯入\n",
    "    - 幫模組取個別名 `import something as alias`\n",
    "\n",
    "    - 匯入到頂層空間 `from something import module_or_method`\n",
    "\n",
    "    - 不安全的匯入(匯入模組所有變數) `from something import *`\n",
    "\n",
    "## 套件\n",
    "> 模組是一個檔案，而套件則是一個目錄！一個擁有著\\__init\\__.py檔案的目錄就會被Python視為一個套件，一個套件裡面收集了若干相關的模組或是套件，簡單來說套件就是個模組庫、函式庫\n",
    ">\n",
    ">可以在\\__init\\__.py中寫匯入套件時所必須進行的初始化動作\n",
    "\n",
    "## sys.path的來源\n",
    "> 模組檔案的尋找，是以sys.path中的路徑，先找到符合的名稱就使用\n",
    ">\n",
    "\n",
    "1. 目前執行檔案的所在目錄\n",
    "2. 環境變數PYTHONPATH的內容\n",
    "3. 標準程式庫搜尋目錄\n",
    "4. 在Python安裝目錄/lib/site-packages下建立.pth檔案中所列出的目錄\n"
   ]
  },
  {
   "cell_type": "code",
   "execution_count": 1,
   "metadata": {},
   "outputs": [
    {
     "name": "stdout",
     "output_type": "stream",
     "text": [
      "-----[sys.path]-----\n",
      "['', '/usr/lib/python35.zip', '/usr/lib/python3.5', '/usr/lib/python3.5/plat-x86_64-linux-gnu', '/usr/lib/python3.5/lib-dynload', '/home/danny/.local/lib/python3.5/site-packages', '/usr/local/lib/python3.5/dist-packages', '/usr/lib/python3/dist-packages', '/home/danny/.local/lib/python3.5/site-packages/IPython/extensions', '/home/danny/.ipython', './my_package', './my_package/sub_package']\n",
      "['In', 'Module_2', 'Out', '_', '__', '___', '__builtin__', '__builtins__', '__doc__', '__loader__', '__name__', '__package__', '__spec__', '_dh', '_i', '_i1', '_ih', '_ii', '_iii', '_oh', 'exit', 'get_ipython', 'module_1', 'os', 'quit', 'sys']\n",
      "Hello, I'm varaible_1\n",
      "Hello, I'm function_1\n",
      "I'm Module_1 instance\n",
      "Module_2 instance calls method_2\n",
      "Module_1 instance calls method_2\n",
      "-----[Exception Hnadling]-----\n",
      "[Traceback Object]\n",
      "<class 'RuntimeWarning'>\n",
      "\n",
      "function or module？ method_3\n",
      "file？ ./my_package/module_1.py\n",
      "'finally' block: execute no matter what\n"
     ]
    }
   ],
   "source": [
    "import os\n",
    "import sys\n",
    "if \"./my_package\" not in sys.path:\n",
    "    sys.path.append(\"./my_package\")\n",
    "if \"./my_package/sub_package\" not in sys.path:\n",
    "    sys.path.append(\"./my_package/sub_package\")\n",
    "print(\"-----[sys.path]-----\")\n",
    "print(sys.path) #list\n",
    "'''print(\"-----[sys.module]-----\")\n",
    "print(sys.modules.keys()) #dictionary'''\n",
    "\n",
    "import module_1\n",
    "from module_2 import Module_2\n",
    "print(dir()) #list names under a specific namespace\n",
    "\n",
    "print(module_1.variable_1)\n",
    "print(module_1.function_1())\n",
    "mod_1 = module_1.Module_1()\n",
    "mod_2 = Module_2()\n",
    "mod_1.showType()\n",
    "mod_2.method_2()\n",
    "mod_1.method_2()\n",
    "mod_1.method_3(4)"
   ]
  },
  {
   "cell_type": "code",
   "execution_count": 2,
   "metadata": {},
   "outputs": [
    {
     "name": "stdout",
     "output_type": "stream",
     "text": [
      "environment variable is True\n",
      "number of instances: 1\n"
     ]
    }
   ],
   "source": [
    "Module_2.static_method()\n",
    "Module_2.class_method()"
   ]
  },
  {
   "cell_type": "markdown",
   "metadata": {},
   "source": [
    "# 特性名稱空間 & 特殊方法名稱(Magic Methods)\n",
    "\n",
    "* 類別（Class）或實例（Instance）本身的作用是作為特性（Property）的名稱空間（Namespace）。類別或實例本身會擁有一個__dict__特性參考至一個字典物件，其中記錄著類別或實例所擁有的特性\n",
    "* 如果嘗試透過instance取得某個attribute，如果instance的\\__dict\\__中沒有，則到產生instance的class \\__dict\\__中尋找，如果class \\__dict\\__仍沒有，則會試著呼叫\\__getattr\\__()來傳回，如果沒有定義\\__getattr\\__()方法，則會引發AttributeError，如果有\\__getattr\\__()，則看\\__getattr\\__()如何處理\n",
    "* 如果不想要直接使用實例的\\__dict\\__來取得特性字典物件，則可以使用vars()，vars()會代為呼叫實例的\\__dict\\__"
   ]
  },
  {
   "cell_type": "code",
   "execution_count": 3,
   "metadata": {},
   "outputs": [
    {
     "name": "stdout",
     "output_type": "stream",
     "text": [
      "Rational: 1/2\n"
     ]
    }
   ],
   "source": [
    "from module_3 import rational\n",
    "\n",
    "rat_1 = rational(1,2, 10)\n",
    "print(rat_1)"
   ]
  },
  {
   "cell_type": "markdown",
   "metadata": {},
   "source": [
    "# 繼承"
   ]
  },
  {
   "cell_type": "code",
   "execution_count": 5,
   "metadata": {},
   "outputs": [
    {
     "name": "stdout",
     "output_type": "stream",
     "text": [
      "I'm yellow male\n",
      "male do hunting\n",
      "I'm white female\n",
      "female do collecting\n",
      "I'm black male children\n",
      "male do hunting\n"
     ]
    }
   ],
   "source": [
    "from module_4 import human, male, female, boy\n",
    "\n",
    "#h = human(\"black\") #TypeError: Can't instantiate abstract class human with abstract methods doSpecificWork\n",
    "m = male(\"yellow\")\n",
    "f = female(\"white\")\n",
    "b = boy(\"black\")\n",
    "#h.selfIntro()\n",
    "m.selfIntro()\n",
    "m.doSpecificWork()\n",
    "f.selfIntro()\n",
    "f.doSpecificWork()\n",
    "b.selfIntro()\n",
    "b.doSpecificWork() #use the method in class male"
   ]
  },
  {
   "cell_type": "markdown",
   "metadata": {},
   "source": [
    "# 修飾器"
   ]
  },
  {
   "cell_type": "markdown",
   "metadata": {},
   "source": [
    "## 函式修飾器"
   ]
  },
  {
   "cell_type": "markdown",
   "metadata": {},
   "source": [
    "sidedish()接受函式物件，函式中使用lamdba建立一個函式物件，該函式物件執行傳入的函式取得主餐價格，再加上附餐價格，sidedish()傳回所建立的函式物件給friedchicken參考，所以之後執行的friedchicken()，就會是主餐加附餐的價格"
   ]
  },
  {
   "cell_type": "code",
   "execution_count": 20,
   "metadata": {},
   "outputs": [
    {
     "name": "stdout",
     "output_type": "stream",
     "text": [
      "59.0\n"
     ]
    }
   ],
   "source": [
    "#side dish\n",
    "def sidedish(meal):\n",
    "    return (lambda: meal()+10)\n",
    "\n",
    "#meal\n",
    "@sidedish\n",
    "def friedchicken():\n",
    "    return 49.0\n",
    "\n",
    "#equals to friedchicken = sidedish(friedchicken)\n",
    "print(friedchicken())"
   ]
  },
  {
   "cell_type": "markdown",
   "metadata": {},
   "source": [
    "以上是傳遞函式的一個應用，你還可以堆疊修飾器"
   ]
  },
  {
   "cell_type": "code",
   "execution_count": 21,
   "metadata": {},
   "outputs": [
    {
     "name": "stdout",
     "output_type": "stream",
     "text": [
      "79.0\n"
     ]
    }
   ],
   "source": [
    "#side dish\n",
    "def sidedish(meal):\n",
    "    return (lambda: meal()+10)\n",
    "\n",
    "def soup(meal):\n",
    "    return (lambda: meal()+20)\n",
    "\n",
    "#meal\n",
    "@soup\n",
    "@sidedish\n",
    "def friedchicken():\n",
    "    return 49.0\n",
    "\n",
    "print(friedchicken())"
   ]
  },
  {
   "cell_type": "markdown",
   "metadata": {},
   "source": [
    "如果你的修飾器語法需要帶有參數，則記得，會先以參數執行一次修飾器，傳回函式物件再修飾指定的函式  \n",
    "@deco('params')  \n",
    "def func():  \n",
    "&nbsp;&nbsp;&nbsp;&nbsp;&nbsp;&nbsp;pass\n",
    "\n",
    "實際上等於:  \n",
    "func = deco('params')(func)"
   ]
  },
  {
   "cell_type": "code",
   "execution_count": 17,
   "metadata": {},
   "outputs": [
    {
     "name": "stdout",
     "output_type": "stream",
     "text": [
      "69.0\n",
      "130.0\n"
     ]
    }
   ],
   "source": [
    "#side dish\n",
    "def sidedish(choice):\n",
    "    def dish_1(meal):\n",
    "        return (lambda: meal()+10)\n",
    "        \n",
    "    def dish_2(meal):\n",
    "        return (lambda: meal()+20)\n",
    "        \n",
    "    def nodish(meal):\n",
    "        return (lambda: meal())\n",
    "    \n",
    "    return {\n",
    "        1: dish_1,\n",
    "        2: dish_2\n",
    "    }.get(choice, nodish)\n",
    "\n",
    "#meal\n",
    "@sidedish(2)\n",
    "def friedchicken():\n",
    "    return 49.0\n",
    "\n",
    "@sidedish(1)\n",
    "@sidedish(2)\n",
    "def steak():\n",
    "    return 100.0\n",
    "\n",
    "print(friedchicken())\n",
    "print(steak())"
   ]
  },
  {
   "cell_type": "markdown",
   "metadata": {},
   "source": [
    "還可以改成以下寫法"
   ]
  },
  {
   "cell_type": "code",
   "execution_count": 22,
   "metadata": {},
   "outputs": [
    {
     "name": "stdout",
     "output_type": "stream",
     "text": [
      "69.0\n",
      "130.0\n"
     ]
    }
   ],
   "source": [
    "#side dish\n",
    "def sidedish(choice):\n",
    "    return {\n",
    "        1: lambda meal: (lambda: meal()+10),\n",
    "        2: lambda meal: (lambda: meal()+20)\n",
    "    }.get(choice, lambda meal: (lambda: meal()))\n",
    "\n",
    "#meal\n",
    "@sidedish(2)\n",
    "def friedchicken():\n",
    "    return 49.0\n",
    "\n",
    "@sidedish(1)\n",
    "@sidedish(2)\n",
    "def steak():\n",
    "    return 100.0\n",
    "\n",
    "print(friedchicken())\n",
    "print(steak())"
   ]
  },
  {
   "cell_type": "markdown",
   "metadata": {
    "collapsed": true
   },
   "source": [
    "# 物件導向(Object-Oriented Programming)\n",
    "> modeling first coding later\n",
    "\n",
    "> 往後改動最少的程式碼，就是最好的程式碼\n",
    "\n",
    "## 物件(Object)與類別(Class)\n",
    "* 類別:定義了一件事物的抽象特點。類別的定義包含了資料的形式(member variables a.k.a attributes)以及對資料的操作(member functions a.k.a methods)，屬性為靜態的\n",
    "* 物件:類別的實例(Instance)，可執行，是屬於動態的\n",
    "\n",
    "## 物件導向的三個特色機制\n",
    "* 封裝(**Encapsulation**): 隱藏某一方法的具體執行步驟，把過程和資料包起來，對資料的操作只能通過已定義的界面\n",
    "    * ex: setter(mutator)和getter(accessor)\n",
    "* 繼承(**Inheritance**): 子類別會繼承父類別的方法和屬性\n",
    "    * Is a xxx? helps to decide if a class should extend another ex: Is a 'Dog' an 'Animal'\n",
    "    * Has a xxx? helps to decide if something is a class attribute ex: 'Dog' has a 'Height'\n",
    "* 多型(**Polymorphism**): 分為靜態(static a.k.a Overloading)及動態(dynamic a.k.a Overriding)\n",
    "    * Overloading: an invocation can be operated on arguments of more than one type\n",
    "    * Overriding: a same operation may behave differently on different classes\n",
    "\n",
    "## 定義抽象類別的兩種方法(Java)\n",
    "1. To achieve polymorphism without the work\n",
    "2. **abstract class**\n",
    "    * a class with abstract and static methods\n",
    "    * 語法: **abstract public class** *cls_name*, **public abstract** *return_type func_name*, **public class** *cls_name* **extends** *abstract_cls_name*\n",
    "    * 例如: design pattern中的template, factory\n",
    "3. **interface**\n",
    "    * a class with only abstract methods\n",
    "    * 語法: **public interface** *itf_name*, **public** *return_type func_name*, **public class** *cls_name* **implements** *itf_name*\n",
    "    * 例如: design pattern中的strategy, prototype\n",
    "4. 一個類別只能使用一次繼承關係，但是一個類別卻可以實現多個介面(interface)\n",
    "\n",
    "## 將需求轉為物件導向設計\n",
    "1. 找出類別和屬性: 從每個需求敘述中找出名詞來，每個名詞都是類別或屬性的候選者。篩選出類別可能含有行為及屬性，若該名詞不具備方法及屬性，則可能是某類別的屬性之一\n",
    "2. 找出方法: 找出需求敘述中的動詞(is、was、have)，這將會是方法的候選者，且透過需求敘述你可以再將這些動詞與上一步驟所找出的名詞結合\n",
    "3. 用UML繪製類別圖\n",
    "\n",
    "## 設計模式(Design Pattern)\n",
    "* A design pattern is a reusable software solution\n",
    "* 設計模式的分類:\n",
    "    1. 創建型(**Creational**):著重於物件創建或類別創建\n",
    "        * Factory\n",
    "        * Builder\n",
    "        * Prototype\n",
    "        * Singleton\n",
    "    2. 結構型(**Structural**):著重於管理物件之間的關係\n",
    "        * Adapter\n",
    "        * Bridge\n",
    "        * Composite\n",
    "        * Decorator\n",
    "        * Facade\n",
    "        * Flyweight\n",
    "        * Proxy\n",
    "    3. 行為型(**Behavioral**):著重於物件之間的溝通\n",
    "        * Chain of Responsibility\n",
    "        * Command\n",
    "        * Iterator\n",
    "        * Strategy\n",
    "        * Template Method\n",
    "        * Observer\n",
    "        * Mediator\n",
    "        * State\n",
    "        * Memento\n",
    "        * Visitor\n",
    "        * Interpreter"
   ]
  },
  {
   "cell_type": "code",
   "execution_count": null,
   "metadata": {
    "collapsed": true
   },
   "outputs": [],
   "source": []
  }
 ],
 "metadata": {
  "kernelspec": {
   "display_name": "Python 3",
   "language": "python",
   "name": "python3"
  },
  "language_info": {
   "codemirror_mode": {
    "name": "ipython",
    "version": 3
   },
   "file_extension": ".py",
   "mimetype": "text/x-python",
   "name": "python",
   "nbconvert_exporter": "python",
   "pygments_lexer": "ipython3",
   "version": "3.5.2"
  }
 },
 "nbformat": 4,
 "nbformat_minor": 2
}
